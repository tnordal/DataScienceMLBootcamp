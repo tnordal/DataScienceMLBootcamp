{
 "cells": [
  {
   "cell_type": "code",
   "execution_count": 6,
   "id": "226970a2",
   "metadata": {},
   "outputs": [
    {
     "name": "stdout",
     "output_type": "stream",
     "text": [
      "Requirement already satisfied: pandas in /home/tn/pyvenv/DataScienceMLBootcamp/lib/python3.8/site-packages (1.3.3)\n",
      "Requirement already satisfied: python-dateutil>=2.7.3 in /home/tn/pyvenv/DataScienceMLBootcamp/lib/python3.8/site-packages (from pandas) (2.8.2)\n",
      "Requirement already satisfied: pytz>=2017.3 in /home/tn/pyvenv/DataScienceMLBootcamp/lib/python3.8/site-packages (from pandas) (2021.1)\n",
      "Requirement already satisfied: numpy>=1.17.3 in /home/tn/pyvenv/DataScienceMLBootcamp/lib/python3.8/site-packages (from pandas) (1.21.2)\n",
      "Requirement already satisfied: six>=1.5 in /home/tn/pyvenv/DataScienceMLBootcamp/lib/python3.8/site-packages (from python-dateutil>=2.7.3->pandas) (1.16.0)\n",
      "Requirement already satisfied: matplotlib in /home/tn/pyvenv/DataScienceMLBootcamp/lib/python3.8/site-packages (3.4.3)\n",
      "Requirement already satisfied: kiwisolver>=1.0.1 in /home/tn/pyvenv/DataScienceMLBootcamp/lib/python3.8/site-packages (from matplotlib) (1.3.2)\n",
      "Requirement already satisfied: pyparsing>=2.2.1 in /home/tn/pyvenv/DataScienceMLBootcamp/lib/python3.8/site-packages (from matplotlib) (2.4.7)\n",
      "Requirement already satisfied: numpy>=1.16 in /home/tn/pyvenv/DataScienceMLBootcamp/lib/python3.8/site-packages (from matplotlib) (1.21.2)\n",
      "Requirement already satisfied: cycler>=0.10 in /home/tn/pyvenv/DataScienceMLBootcamp/lib/python3.8/site-packages (from matplotlib) (0.10.0)\n",
      "Requirement already satisfied: pillow>=6.2.0 in /home/tn/pyvenv/DataScienceMLBootcamp/lib/python3.8/site-packages (from matplotlib) (8.3.2)\n",
      "Requirement already satisfied: python-dateutil>=2.7 in /home/tn/pyvenv/DataScienceMLBootcamp/lib/python3.8/site-packages (from matplotlib) (2.8.2)\n",
      "Requirement already satisfied: six in /home/tn/pyvenv/DataScienceMLBootcamp/lib/python3.8/site-packages (from cycler>=0.10->matplotlib) (1.16.0)\n",
      "Requirement already satisfied: seaborn in /home/tn/pyvenv/DataScienceMLBootcamp/lib/python3.8/site-packages (0.11.2)\n",
      "Requirement already satisfied: numpy>=1.15 in /home/tn/pyvenv/DataScienceMLBootcamp/lib/python3.8/site-packages (from seaborn) (1.21.2)\n",
      "Requirement already satisfied: scipy>=1.0 in /home/tn/pyvenv/DataScienceMLBootcamp/lib/python3.8/site-packages (from seaborn) (1.7.1)\n",
      "Requirement already satisfied: pandas>=0.23 in /home/tn/pyvenv/DataScienceMLBootcamp/lib/python3.8/site-packages (from seaborn) (1.3.3)\n",
      "Requirement already satisfied: matplotlib>=2.2 in /home/tn/pyvenv/DataScienceMLBootcamp/lib/python3.8/site-packages (from seaborn) (3.4.3)\n",
      "Requirement already satisfied: pytz>=2017.3 in /home/tn/pyvenv/DataScienceMLBootcamp/lib/python3.8/site-packages (from pandas>=0.23->seaborn) (2021.1)\n",
      "Requirement already satisfied: python-dateutil>=2.7.3 in /home/tn/pyvenv/DataScienceMLBootcamp/lib/python3.8/site-packages (from pandas>=0.23->seaborn) (2.8.2)\n",
      "Requirement already satisfied: pyparsing>=2.2.1 in /home/tn/pyvenv/DataScienceMLBootcamp/lib/python3.8/site-packages (from matplotlib>=2.2->seaborn) (2.4.7)\n",
      "Requirement already satisfied: cycler>=0.10 in /home/tn/pyvenv/DataScienceMLBootcamp/lib/python3.8/site-packages (from matplotlib>=2.2->seaborn) (0.10.0)\n",
      "Requirement already satisfied: kiwisolver>=1.0.1 in /home/tn/pyvenv/DataScienceMLBootcamp/lib/python3.8/site-packages (from matplotlib>=2.2->seaborn) (1.3.2)\n",
      "Requirement already satisfied: pillow>=6.2.0 in /home/tn/pyvenv/DataScienceMLBootcamp/lib/python3.8/site-packages (from matplotlib>=2.2->seaborn) (8.3.2)\n",
      "Requirement already satisfied: six>=1.5 in /home/tn/pyvenv/DataScienceMLBootcamp/lib/python3.8/site-packages (from python-dateutil>=2.7.3->pandas>=0.23->seaborn) (1.16.0)\n",
      "Requirement already satisfied: plotly in /home/tn/pyvenv/DataScienceMLBootcamp/lib/python3.8/site-packages (5.3.1)\n",
      "Requirement already satisfied: tenacity>=6.2.0 in /home/tn/pyvenv/DataScienceMLBootcamp/lib/python3.8/site-packages (from plotly) (8.0.1)\n",
      "Requirement already satisfied: six in /home/tn/pyvenv/DataScienceMLBootcamp/lib/python3.8/site-packages (from plotly) (1.16.0)\n",
      "Requirement already satisfied: cufflinks in /home/tn/pyvenv/DataScienceMLBootcamp/lib/python3.8/site-packages (0.17.3)\n",
      "Requirement already satisfied: colorlover>=0.2.1 in /home/tn/pyvenv/DataScienceMLBootcamp/lib/python3.8/site-packages (from cufflinks) (0.3.0)\n",
      "Requirement already satisfied: ipython>=5.3.0 in /home/tn/pyvenv/DataScienceMLBootcamp/lib/python3.8/site-packages (from cufflinks) (7.27.0)\n",
      "Requirement already satisfied: ipywidgets>=7.0.0 in /home/tn/pyvenv/DataScienceMLBootcamp/lib/python3.8/site-packages (from cufflinks) (7.6.4)\n",
      "Requirement already satisfied: numpy>=1.9.2 in /home/tn/pyvenv/DataScienceMLBootcamp/lib/python3.8/site-packages (from cufflinks) (1.21.2)\n",
      "Requirement already satisfied: pandas>=0.19.2 in /home/tn/pyvenv/DataScienceMLBootcamp/lib/python3.8/site-packages (from cufflinks) (1.3.3)\n",
      "Requirement already satisfied: plotly>=4.1.1 in /home/tn/pyvenv/DataScienceMLBootcamp/lib/python3.8/site-packages (from cufflinks) (5.3.1)\n",
      "Requirement already satisfied: setuptools>=34.4.1 in /home/tn/pyvenv/DataScienceMLBootcamp/lib/python3.8/site-packages (from cufflinks) (44.0.0)\n",
      "Requirement already satisfied: six>=1.9.0 in /home/tn/pyvenv/DataScienceMLBootcamp/lib/python3.8/site-packages (from cufflinks) (1.16.0)\n",
      "Requirement already satisfied: decorator in /home/tn/pyvenv/DataScienceMLBootcamp/lib/python3.8/site-packages (from ipython>=5.3.0->cufflinks) (5.1.0)\n",
      "Requirement already satisfied: traitlets>=4.2 in /home/tn/pyvenv/DataScienceMLBootcamp/lib/python3.8/site-packages (from ipython>=5.3.0->cufflinks) (5.1.0)\n",
      "Requirement already satisfied: pexpect>4.3; sys_platform != \"win32\" in /home/tn/pyvenv/DataScienceMLBootcamp/lib/python3.8/site-packages (from ipython>=5.3.0->cufflinks) (4.8.0)\n",
      "Requirement already satisfied: matplotlib-inline in /home/tn/pyvenv/DataScienceMLBootcamp/lib/python3.8/site-packages (from ipython>=5.3.0->cufflinks) (0.1.3)\n",
      "Requirement already satisfied: pickleshare in /home/tn/pyvenv/DataScienceMLBootcamp/lib/python3.8/site-packages (from ipython>=5.3.0->cufflinks) (0.7.5)\n",
      "Requirement already satisfied: backcall in /home/tn/pyvenv/DataScienceMLBootcamp/lib/python3.8/site-packages (from ipython>=5.3.0->cufflinks) (0.2.0)\n",
      "Requirement already satisfied: prompt-toolkit!=3.0.0,!=3.0.1,<3.1.0,>=2.0.0 in /home/tn/pyvenv/DataScienceMLBootcamp/lib/python3.8/site-packages (from ipython>=5.3.0->cufflinks) (3.0.20)\n",
      "Requirement already satisfied: pygments in /home/tn/pyvenv/DataScienceMLBootcamp/lib/python3.8/site-packages (from ipython>=5.3.0->cufflinks) (2.10.0)\n",
      "Requirement already satisfied: jedi>=0.16 in /home/tn/pyvenv/DataScienceMLBootcamp/lib/python3.8/site-packages (from ipython>=5.3.0->cufflinks) (0.18.0)\n",
      "Requirement already satisfied: nbformat>=4.2.0 in /home/tn/pyvenv/DataScienceMLBootcamp/lib/python3.8/site-packages (from ipywidgets>=7.0.0->cufflinks) (5.1.3)\n",
      "Requirement already satisfied: ipython-genutils~=0.2.0 in /home/tn/pyvenv/DataScienceMLBootcamp/lib/python3.8/site-packages (from ipywidgets>=7.0.0->cufflinks) (0.2.0)\n",
      "Requirement already satisfied: ipykernel>=4.5.1 in /home/tn/pyvenv/DataScienceMLBootcamp/lib/python3.8/site-packages (from ipywidgets>=7.0.0->cufflinks) (6.4.1)\n",
      "Requirement already satisfied: jupyterlab-widgets>=1.0.0; python_version >= \"3.6\" in /home/tn/pyvenv/DataScienceMLBootcamp/lib/python3.8/site-packages (from ipywidgets>=7.0.0->cufflinks) (1.0.1)\n",
      "Requirement already satisfied: widgetsnbextension~=3.5.0 in /home/tn/pyvenv/DataScienceMLBootcamp/lib/python3.8/site-packages (from ipywidgets>=7.0.0->cufflinks) (3.5.1)\n",
      "Requirement already satisfied: pytz>=2017.3 in /home/tn/pyvenv/DataScienceMLBootcamp/lib/python3.8/site-packages (from pandas>=0.19.2->cufflinks) (2021.1)\n",
      "Requirement already satisfied: python-dateutil>=2.7.3 in /home/tn/pyvenv/DataScienceMLBootcamp/lib/python3.8/site-packages (from pandas>=0.19.2->cufflinks) (2.8.2)\n",
      "Requirement already satisfied: tenacity>=6.2.0 in /home/tn/pyvenv/DataScienceMLBootcamp/lib/python3.8/site-packages (from plotly>=4.1.1->cufflinks) (8.0.1)\n",
      "Requirement already satisfied: ptyprocess>=0.5 in /home/tn/pyvenv/DataScienceMLBootcamp/lib/python3.8/site-packages (from pexpect>4.3; sys_platform != \"win32\"->ipython>=5.3.0->cufflinks) (0.7.0)\n",
      "Requirement already satisfied: wcwidth in /home/tn/pyvenv/DataScienceMLBootcamp/lib/python3.8/site-packages (from prompt-toolkit!=3.0.0,!=3.0.1,<3.1.0,>=2.0.0->ipython>=5.3.0->cufflinks) (0.2.5)\n",
      "Requirement already satisfied: parso<0.9.0,>=0.8.0 in /home/tn/pyvenv/DataScienceMLBootcamp/lib/python3.8/site-packages (from jedi>=0.16->ipython>=5.3.0->cufflinks) (0.8.2)\n",
      "Requirement already satisfied: jupyter-core in /home/tn/pyvenv/DataScienceMLBootcamp/lib/python3.8/site-packages (from nbformat>=4.2.0->ipywidgets>=7.0.0->cufflinks) (4.7.1)\n",
      "Requirement already satisfied: jsonschema!=2.5.0,>=2.4 in /home/tn/pyvenv/DataScienceMLBootcamp/lib/python3.8/site-packages (from nbformat>=4.2.0->ipywidgets>=7.0.0->cufflinks) (3.2.0)\n",
      "Requirement already satisfied: debugpy<2.0,>=1.0.0 in /home/tn/pyvenv/DataScienceMLBootcamp/lib/python3.8/site-packages (from ipykernel>=4.5.1->ipywidgets>=7.0.0->cufflinks) (1.4.3)\n",
      "Requirement already satisfied: jupyter-client<8.0 in /home/tn/pyvenv/DataScienceMLBootcamp/lib/python3.8/site-packages (from ipykernel>=4.5.1->ipywidgets>=7.0.0->cufflinks) (7.0.2)\n",
      "Requirement already satisfied: tornado<7.0,>=4.2 in /home/tn/pyvenv/DataScienceMLBootcamp/lib/python3.8/site-packages (from ipykernel>=4.5.1->ipywidgets>=7.0.0->cufflinks) (6.1)\n",
      "Requirement already satisfied: notebook>=4.4.1 in /home/tn/pyvenv/DataScienceMLBootcamp/lib/python3.8/site-packages (from widgetsnbextension~=3.5.0->ipywidgets>=7.0.0->cufflinks) (6.4.3)\n"
     ]
    },
    {
     "name": "stdout",
     "output_type": "stream",
     "text": [
      "Requirement already satisfied: attrs>=17.4.0 in /home/tn/pyvenv/DataScienceMLBootcamp/lib/python3.8/site-packages (from jsonschema!=2.5.0,>=2.4->nbformat>=4.2.0->ipywidgets>=7.0.0->cufflinks) (21.2.0)\n",
      "Requirement already satisfied: pyrsistent>=0.14.0 in /home/tn/pyvenv/DataScienceMLBootcamp/lib/python3.8/site-packages (from jsonschema!=2.5.0,>=2.4->nbformat>=4.2.0->ipywidgets>=7.0.0->cufflinks) (0.18.0)\n",
      "Requirement already satisfied: pyzmq>=13 in /home/tn/pyvenv/DataScienceMLBootcamp/lib/python3.8/site-packages (from jupyter-client<8.0->ipykernel>=4.5.1->ipywidgets>=7.0.0->cufflinks) (22.2.1)\n",
      "Requirement already satisfied: entrypoints in /home/tn/pyvenv/DataScienceMLBootcamp/lib/python3.8/site-packages (from jupyter-client<8.0->ipykernel>=4.5.1->ipywidgets>=7.0.0->cufflinks) (0.3)\n",
      "Requirement already satisfied: nest-asyncio>=1.5 in /home/tn/pyvenv/DataScienceMLBootcamp/lib/python3.8/site-packages (from jupyter-client<8.0->ipykernel>=4.5.1->ipywidgets>=7.0.0->cufflinks) (1.5.1)\n",
      "Requirement already satisfied: Send2Trash>=1.5.0 in /home/tn/pyvenv/DataScienceMLBootcamp/lib/python3.8/site-packages (from notebook>=4.4.1->widgetsnbextension~=3.5.0->ipywidgets>=7.0.0->cufflinks) (1.8.0)\n",
      "Requirement already satisfied: terminado>=0.8.3 in /home/tn/pyvenv/DataScienceMLBootcamp/lib/python3.8/site-packages (from notebook>=4.4.1->widgetsnbextension~=3.5.0->ipywidgets>=7.0.0->cufflinks) (0.12.1)\n",
      "Requirement already satisfied: nbconvert in /home/tn/pyvenv/DataScienceMLBootcamp/lib/python3.8/site-packages (from notebook>=4.4.1->widgetsnbextension~=3.5.0->ipywidgets>=7.0.0->cufflinks) (6.1.0)\n",
      "Requirement already satisfied: jinja2 in /home/tn/pyvenv/DataScienceMLBootcamp/lib/python3.8/site-packages (from notebook>=4.4.1->widgetsnbextension~=3.5.0->ipywidgets>=7.0.0->cufflinks) (3.0.1)\n",
      "Requirement already satisfied: prometheus-client in /home/tn/pyvenv/DataScienceMLBootcamp/lib/python3.8/site-packages (from notebook>=4.4.1->widgetsnbextension~=3.5.0->ipywidgets>=7.0.0->cufflinks) (0.11.0)\n",
      "Requirement already satisfied: argon2-cffi in /home/tn/pyvenv/DataScienceMLBootcamp/lib/python3.8/site-packages (from notebook>=4.4.1->widgetsnbextension~=3.5.0->ipywidgets>=7.0.0->cufflinks) (21.1.0)\n",
      "Requirement already satisfied: defusedxml in /home/tn/pyvenv/DataScienceMLBootcamp/lib/python3.8/site-packages (from nbconvert->notebook>=4.4.1->widgetsnbextension~=3.5.0->ipywidgets>=7.0.0->cufflinks) (0.7.1)\n",
      "Requirement already satisfied: nbclient<0.6.0,>=0.5.0 in /home/tn/pyvenv/DataScienceMLBootcamp/lib/python3.8/site-packages (from nbconvert->notebook>=4.4.1->widgetsnbextension~=3.5.0->ipywidgets>=7.0.0->cufflinks) (0.5.4)\n",
      "Requirement already satisfied: pandocfilters>=1.4.1 in /home/tn/pyvenv/DataScienceMLBootcamp/lib/python3.8/site-packages (from nbconvert->notebook>=4.4.1->widgetsnbextension~=3.5.0->ipywidgets>=7.0.0->cufflinks) (1.4.3)\n",
      "Requirement already satisfied: testpath in /home/tn/pyvenv/DataScienceMLBootcamp/lib/python3.8/site-packages (from nbconvert->notebook>=4.4.1->widgetsnbextension~=3.5.0->ipywidgets>=7.0.0->cufflinks) (0.5.0)\n",
      "Requirement already satisfied: bleach in /home/tn/pyvenv/DataScienceMLBootcamp/lib/python3.8/site-packages (from nbconvert->notebook>=4.4.1->widgetsnbextension~=3.5.0->ipywidgets>=7.0.0->cufflinks) (4.1.0)\n",
      "Requirement already satisfied: mistune<2,>=0.8.1 in /home/tn/pyvenv/DataScienceMLBootcamp/lib/python3.8/site-packages (from nbconvert->notebook>=4.4.1->widgetsnbextension~=3.5.0->ipywidgets>=7.0.0->cufflinks) (0.8.4)\n",
      "Requirement already satisfied: jupyterlab-pygments in /home/tn/pyvenv/DataScienceMLBootcamp/lib/python3.8/site-packages (from nbconvert->notebook>=4.4.1->widgetsnbextension~=3.5.0->ipywidgets>=7.0.0->cufflinks) (0.1.2)\n",
      "Requirement already satisfied: MarkupSafe>=2.0 in /home/tn/pyvenv/DataScienceMLBootcamp/lib/python3.8/site-packages (from jinja2->notebook>=4.4.1->widgetsnbextension~=3.5.0->ipywidgets>=7.0.0->cufflinks) (2.0.1)\n",
      "Requirement already satisfied: cffi>=1.0.0 in /home/tn/pyvenv/DataScienceMLBootcamp/lib/python3.8/site-packages (from argon2-cffi->notebook>=4.4.1->widgetsnbextension~=3.5.0->ipywidgets>=7.0.0->cufflinks) (1.14.6)\n",
      "Requirement already satisfied: packaging in /home/tn/pyvenv/DataScienceMLBootcamp/lib/python3.8/site-packages (from bleach->nbconvert->notebook>=4.4.1->widgetsnbextension~=3.5.0->ipywidgets>=7.0.0->cufflinks) (21.0)\n",
      "Requirement already satisfied: webencodings in /home/tn/pyvenv/DataScienceMLBootcamp/lib/python3.8/site-packages (from bleach->nbconvert->notebook>=4.4.1->widgetsnbextension~=3.5.0->ipywidgets>=7.0.0->cufflinks) (0.5.1)\n",
      "Requirement already satisfied: pycparser in /home/tn/pyvenv/DataScienceMLBootcamp/lib/python3.8/site-packages (from cffi>=1.0.0->argon2-cffi->notebook>=4.4.1->widgetsnbextension~=3.5.0->ipywidgets>=7.0.0->cufflinks) (2.20)\n",
      "Requirement already satisfied: pyparsing>=2.0.2 in /home/tn/pyvenv/DataScienceMLBootcamp/lib/python3.8/site-packages (from packaging->bleach->nbconvert->notebook>=4.4.1->widgetsnbextension~=3.5.0->ipywidgets>=7.0.0->cufflinks) (2.4.7)\n",
      "Requirement already satisfied: scikit-learn in /home/tn/pyvenv/DataScienceMLBootcamp/lib/python3.8/site-packages (0.24.2)\n",
      "Requirement already satisfied: scipy>=0.19.1 in /home/tn/pyvenv/DataScienceMLBootcamp/lib/python3.8/site-packages (from scikit-learn) (1.7.1)\n",
      "Requirement already satisfied: joblib>=0.11 in /home/tn/pyvenv/DataScienceMLBootcamp/lib/python3.8/site-packages (from scikit-learn) (1.0.1)\n",
      "Requirement already satisfied: threadpoolctl>=2.0.0 in /home/tn/pyvenv/DataScienceMLBootcamp/lib/python3.8/site-packages (from scikit-learn) (2.2.0)\n",
      "Requirement already satisfied: numpy>=1.13.3 in /home/tn/pyvenv/DataScienceMLBootcamp/lib/python3.8/site-packages (from scikit-learn) (1.21.2)\n",
      "Requirement already satisfied: nltk in /home/tn/pyvenv/DataScienceMLBootcamp/lib/python3.8/site-packages (3.6.2)\n",
      "Requirement already satisfied: regex in /home/tn/pyvenv/DataScienceMLBootcamp/lib/python3.8/site-packages (from nltk) (2021.8.28)\n",
      "Requirement already satisfied: tqdm in /home/tn/pyvenv/DataScienceMLBootcamp/lib/python3.8/site-packages (from nltk) (4.62.2)\n",
      "Requirement already satisfied: click in /home/tn/pyvenv/DataScienceMLBootcamp/lib/python3.8/site-packages (from nltk) (8.0.1)\n",
      "Requirement already satisfied: joblib in /home/tn/pyvenv/DataScienceMLBootcamp/lib/python3.8/site-packages (from nltk) (1.0.1)\n"
     ]
    }
   ],
   "source": [
    "!pip install pandas\n",
    "!pip install matplotlib\n",
    "!pip install seaborn\n",
    "!pip install plotly\n",
    "!pip install cufflinks\n",
    "!pip install scikit-learn\n",
    "!pip install nltk"
   ]
  },
  {
   "cell_type": "code",
   "execution_count": 7,
   "id": "328d19f3",
   "metadata": {},
   "outputs": [
    {
     "name": "stdout",
     "output_type": "stream",
     "text": [
      "Collecting statsmodels\n",
      "  Using cached statsmodels-0.12.2-cp38-cp38-manylinux1_x86_64.whl (9.4 MB)\n",
      "Requirement already satisfied: pandas>=0.21 in /home/tn/pyvenv/DataScienceMLBootcamp/lib/python3.8/site-packages (from statsmodels) (1.3.3)\n",
      "Requirement already satisfied: scipy>=1.1 in /home/tn/pyvenv/DataScienceMLBootcamp/lib/python3.8/site-packages (from statsmodels) (1.7.1)\n",
      "Requirement already satisfied: numpy>=1.15 in /home/tn/pyvenv/DataScienceMLBootcamp/lib/python3.8/site-packages (from statsmodels) (1.21.2)\n",
      "Collecting patsy>=0.5\n",
      "  Using cached patsy-0.5.1-py2.py3-none-any.whl (231 kB)\n",
      "Requirement already satisfied: python-dateutil>=2.7.3 in /home/tn/pyvenv/DataScienceMLBootcamp/lib/python3.8/site-packages (from pandas>=0.21->statsmodels) (2.8.2)\n",
      "Requirement already satisfied: pytz>=2017.3 in /home/tn/pyvenv/DataScienceMLBootcamp/lib/python3.8/site-packages (from pandas>=0.21->statsmodels) (2021.1)\n",
      "Requirement already satisfied: six in /home/tn/pyvenv/DataScienceMLBootcamp/lib/python3.8/site-packages (from patsy>=0.5->statsmodels) (1.16.0)\n",
      "Installing collected packages: patsy, statsmodels\n",
      "Successfully installed patsy-0.5.1 statsmodels-0.12.2\n",
      "Collecting pydot\n",
      "  Downloading pydot-1.4.2-py2.py3-none-any.whl (21 kB)\n",
      "Requirement already satisfied: pyparsing>=2.1.4 in /home/tn/pyvenv/DataScienceMLBootcamp/lib/python3.8/site-packages (from pydot) (2.4.7)\n",
      "Installing collected packages: pydot\n",
      "Successfully installed pydot-1.4.2\n"
     ]
    }
   ],
   "source": [
    "!pip install statsmodels\n",
    "!pip install pydot"
   ]
  },
  {
   "cell_type": "code",
   "execution_count": 8,
   "id": "b473edb3",
   "metadata": {},
   "outputs": [],
   "source": [
    "import numpy\n",
    "import pandas\n",
    "import matplotlib\n",
    "import seaborn\n",
    "import statsmodels\n",
    "import pydot\n",
    "import sklearn\n",
    "import cufflinks\n",
    "import nltk"
   ]
  },
  {
   "cell_type": "code",
   "execution_count": null,
   "id": "20284aab",
   "metadata": {},
   "outputs": [],
   "source": []
  }
 ],
 "metadata": {
  "kernelspec": {
   "display_name": "Python 3 (ipykernel)",
   "language": "python",
   "name": "python3"
  },
  "language_info": {
   "codemirror_mode": {
    "name": "ipython",
    "version": 3
   },
   "file_extension": ".py",
   "mimetype": "text/x-python",
   "name": "python",
   "nbconvert_exporter": "python",
   "pygments_lexer": "ipython3",
   "version": "3.8.10"
  }
 },
 "nbformat": 4,
 "nbformat_minor": 5
}

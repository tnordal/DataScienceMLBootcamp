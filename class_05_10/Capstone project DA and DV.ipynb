{
 "cells": [
  {
   "cell_type": "markdown",
   "id": "6bda7ce5",
   "metadata": {},
   "source": [
    "# Class 5 of 10 - Capstone project DA and DV"
   ]
  },
  {
   "cell_type": "markdown",
   "id": "331e0b2b",
   "metadata": {},
   "source": [
    "## Project Oil Bank OvrVw"
   ]
  },
  {
   "cell_type": "code",
   "execution_count": null,
   "id": "7b1de101",
   "metadata": {},
   "outputs": [],
   "source": []
  },
  {
   "cell_type": "code",
   "execution_count": null,
   "id": "809509a9",
   "metadata": {},
   "outputs": [],
   "source": []
  }
 ],
 "metadata": {
  "kernelspec": {
   "display_name": "Python 3 (ipykernel)",
   "language": "python",
   "name": "python3"
  },
  "language_info": {
   "codemirror_mode": {
    "name": "ipython",
    "version": 3
   },
   "file_extension": ".py",
   "mimetype": "text/x-python",
   "name": "python",
   "nbconvert_exporter": "python",
   "pygments_lexer": "ipython3",
   "version": "3.8.10"
  }
 },
 "nbformat": 4,
 "nbformat_minor": 5
}

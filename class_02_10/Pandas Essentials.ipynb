{
 "cells": [
  {
   "cell_type": "markdown",
   "id": "f008ebe5",
   "metadata": {},
   "source": [
    "# Pandas Essentials"
   ]
  },
  {
   "cell_type": "markdown",
   "id": "8c0c2291",
   "metadata": {},
   "source": [
    "## Pandas Series"
   ]
  },
  {
   "cell_type": "code",
   "execution_count": 4,
   "id": "04d491eb",
   "metadata": {},
   "outputs": [],
   "source": [
    "import numpy as np\n",
    "import pandas as pd"
   ]
  },
  {
   "cell_type": "code",
   "execution_count": 5,
   "id": "19b11d07",
   "metadata": {},
   "outputs": [],
   "source": [
    "my_label = ['x', 'y', 'z']\n",
    "my_data = [100, 200, 300]"
   ]
  },
  {
   "cell_type": "code",
   "execution_count": 6,
   "id": "435c0a44",
   "metadata": {},
   "outputs": [
    {
     "data": {
      "text/plain": [
       "0    100\n",
       "1    200\n",
       "2    300\n",
       "dtype: int64"
      ]
     },
     "execution_count": 6,
     "metadata": {},
     "output_type": "execute_result"
    }
   ],
   "source": [
    "pd.Series(data=my_data)"
   ]
  },
  {
   "cell_type": "code",
   "execution_count": 7,
   "id": "f251c967",
   "metadata": {},
   "outputs": [
    {
     "data": {
      "text/plain": [
       "x    100\n",
       "y    200\n",
       "z    300\n",
       "dtype: int64"
      ]
     },
     "execution_count": 7,
     "metadata": {},
     "output_type": "execute_result"
    }
   ],
   "source": [
    "pd.Series(data=my_data, index=my_label)"
   ]
  },
  {
   "cell_type": "code",
   "execution_count": 8,
   "id": "2bd09147",
   "metadata": {},
   "outputs": [],
   "source": [
    "my_array = np.array(my_data)"
   ]
  },
  {
   "cell_type": "code",
   "execution_count": 9,
   "id": "3dbc8dd7",
   "metadata": {},
   "outputs": [
    {
     "data": {
      "text/plain": [
       "array([100, 200, 300])"
      ]
     },
     "execution_count": 9,
     "metadata": {},
     "output_type": "execute_result"
    }
   ],
   "source": [
    "my_array"
   ]
  },
  {
   "cell_type": "code",
   "execution_count": 10,
   "id": "65396584",
   "metadata": {},
   "outputs": [],
   "source": [
    "my_dict = {'x':100, 'y':200, 'z':300}"
   ]
  },
  {
   "cell_type": "code",
   "execution_count": 11,
   "id": "09106f75",
   "metadata": {},
   "outputs": [
    {
     "data": {
      "text/plain": [
       "{'x': 100, 'y': 200, 'z': 300}"
      ]
     },
     "execution_count": 11,
     "metadata": {},
     "output_type": "execute_result"
    }
   ],
   "source": [
    "my_dict"
   ]
  },
  {
   "cell_type": "code",
   "execution_count": 12,
   "id": "7d5743b2",
   "metadata": {},
   "outputs": [
    {
     "data": {
      "text/plain": [
       "x    100\n",
       "y    200\n",
       "z    300\n",
       "dtype: int64"
      ]
     },
     "execution_count": 12,
     "metadata": {},
     "output_type": "execute_result"
    }
   ],
   "source": [
    "pd.Series(my_dict)"
   ]
  },
  {
   "cell_type": "code",
   "execution_count": 14,
   "id": "fb810399",
   "metadata": {},
   "outputs": [],
   "source": [
    "dic_1 = {'Toronto': 500, 'Calgary': 200, 'Vancouver': 300, 'Montreal': 700}\n",
    "dic_2 = {'Calgary': 200, 'Vancouver': 300, 'Montreal': 700}\n",
    "dic_3 = {'Calgary': 200, 'Vancouver': 300, 'Montreal': 700, 'Jasper': 1000}"
   ]
  },
  {
   "cell_type": "code",
   "execution_count": 16,
   "id": "ca253194",
   "metadata": {},
   "outputs": [],
   "source": [
    "ser_1 = pd.Series(dic_1)\n",
    "ser_2 = pd.Series(dic_2)\n",
    "ser_3 = pd.Series(dic_3)"
   ]
  },
  {
   "cell_type": "code",
   "execution_count": 17,
   "id": "cb89e193",
   "metadata": {},
   "outputs": [
    {
     "data": {
      "text/plain": [
       "Toronto      500\n",
       "Calgary      200\n",
       "Vancouver    300\n",
       "Montreal     700\n",
       "dtype: int64"
      ]
     },
     "execution_count": 17,
     "metadata": {},
     "output_type": "execute_result"
    }
   ],
   "source": [
    "ser_1"
   ]
  },
  {
   "cell_type": "code",
   "execution_count": 19,
   "id": "0368878d",
   "metadata": {},
   "outputs": [
    {
     "data": {
      "text/plain": [
       "500"
      ]
     },
     "execution_count": 19,
     "metadata": {},
     "output_type": "execute_result"
    }
   ],
   "source": [
    "ser_1['Toronto']"
   ]
  },
  {
   "cell_type": "code",
   "execution_count": 20,
   "id": "355b40c9",
   "metadata": {},
   "outputs": [
    {
     "data": {
      "text/plain": [
       "Calgary       400.0\n",
       "Montreal     1400.0\n",
       "Toronto         NaN\n",
       "Vancouver     600.0\n",
       "dtype: float64"
      ]
     },
     "execution_count": 20,
     "metadata": {},
     "output_type": "execute_result"
    }
   ],
   "source": [
    "ser_1 + ser_2"
   ]
  },
  {
   "cell_type": "code",
   "execution_count": 21,
   "id": "9ae617e3",
   "metadata": {},
   "outputs": [
    {
     "data": {
      "text/plain": [
       "Calgary       400.0\n",
       "Montreal     1400.0\n",
       "Toronto         NaN\n",
       "Vancouver     600.0\n",
       "dtype: float64"
      ]
     },
     "execution_count": 21,
     "metadata": {},
     "output_type": "execute_result"
    }
   ],
   "source": [
    "ser_4 = ser_1 + ser_2\n",
    "ser_4"
   ]
  },
  {
   "cell_type": "code",
   "execution_count": 22,
   "id": "ecb2ea8e",
   "metadata": {},
   "outputs": [
    {
     "data": {
      "text/plain": [
       "Calgary      False\n",
       "Montreal     False\n",
       "Toronto       True\n",
       "Vancouver    False\n",
       "dtype: bool"
      ]
     },
     "execution_count": 22,
     "metadata": {},
     "output_type": "execute_result"
    }
   ],
   "source": [
    "ser_4.isnull()"
   ]
  },
  {
   "cell_type": "code",
   "execution_count": 23,
   "id": "6b50447e",
   "metadata": {},
   "outputs": [
    {
     "data": {
      "text/plain": [
       "Calgary       True\n",
       "Montreal      True\n",
       "Toronto      False\n",
       "Vancouver     True\n",
       "dtype: bool"
      ]
     },
     "execution_count": 23,
     "metadata": {},
     "output_type": "execute_result"
    }
   ],
   "source": [
    "ser_4.notnull()"
   ]
  },
  {
   "cell_type": "code",
   "execution_count": 24,
   "id": "a4818470",
   "metadata": {},
   "outputs": [
    {
     "data": {
      "text/plain": [
       "[Index(['Calgary', 'Montreal', 'Toronto', 'Vancouver'], dtype='object')]"
      ]
     },
     "execution_count": 24,
     "metadata": {},
     "output_type": "execute_result"
    }
   ],
   "source": [
    "ser_4.axes"
   ]
  },
  {
   "cell_type": "code",
   "execution_count": 25,
   "id": "a9da553a",
   "metadata": {},
   "outputs": [
    {
     "data": {
      "text/plain": [
       "array([ 400., 1400.,   nan,  600.])"
      ]
     },
     "execution_count": 25,
     "metadata": {},
     "output_type": "execute_result"
    }
   ],
   "source": [
    "ser_4.values"
   ]
  },
  {
   "cell_type": "code",
   "execution_count": 26,
   "id": "dc2f616d",
   "metadata": {},
   "outputs": [
    {
     "data": {
      "text/plain": [
       "Calgary      400.0\n",
       "Montreal    1400.0\n",
       "dtype: float64"
      ]
     },
     "execution_count": 26,
     "metadata": {},
     "output_type": "execute_result"
    }
   ],
   "source": [
    "ser_4.head(2)"
   ]
  },
  {
   "cell_type": "code",
   "execution_count": 27,
   "id": "a9b4b8c5",
   "metadata": {},
   "outputs": [
    {
     "data": {
      "text/plain": [
       "Toronto        NaN\n",
       "Vancouver    600.0\n",
       "dtype: float64"
      ]
     },
     "execution_count": 27,
     "metadata": {},
     "output_type": "execute_result"
    }
   ],
   "source": [
    "ser_4.tail(2)"
   ]
  },
  {
   "cell_type": "code",
   "execution_count": 28,
   "id": "64c6e0fe",
   "metadata": {},
   "outputs": [
    {
     "data": {
      "text/plain": [
       "4"
      ]
     },
     "execution_count": 28,
     "metadata": {},
     "output_type": "execute_result"
    }
   ],
   "source": [
    "ser_4.size"
   ]
  },
  {
   "cell_type": "code",
   "execution_count": 29,
   "id": "eee46b17",
   "metadata": {},
   "outputs": [
    {
     "data": {
      "text/plain": [
       "False"
      ]
     },
     "execution_count": 29,
     "metadata": {},
     "output_type": "execute_result"
    }
   ],
   "source": [
    "ser_4.empty"
   ]
  },
  {
   "cell_type": "code",
   "execution_count": null,
   "id": "d92bc899",
   "metadata": {},
   "outputs": [],
   "source": []
  },
  {
   "cell_type": "code",
   "execution_count": null,
   "id": "1b461820",
   "metadata": {},
   "outputs": [],
   "source": []
  },
  {
   "cell_type": "code",
   "execution_count": null,
   "id": "60d1acec",
   "metadata": {},
   "outputs": [],
   "source": []
  },
  {
   "cell_type": "code",
   "execution_count": null,
   "id": "aeeb491f",
   "metadata": {},
   "outputs": [],
   "source": []
  },
  {
   "cell_type": "code",
   "execution_count": null,
   "id": "a55d4c24",
   "metadata": {},
   "outputs": [],
   "source": []
  }
 ],
 "metadata": {
  "kernelspec": {
   "display_name": "Python 3 (ipykernel)",
   "language": "python",
   "name": "python3"
  },
  "language_info": {
   "codemirror_mode": {
    "name": "ipython",
    "version": 3
   },
   "file_extension": ".py",
   "mimetype": "text/x-python",
   "name": "python",
   "nbconvert_exporter": "python",
   "pygments_lexer": "ipython3",
   "version": "3.8.10"
  }
 },
 "nbformat": 4,
 "nbformat_minor": 5
}
